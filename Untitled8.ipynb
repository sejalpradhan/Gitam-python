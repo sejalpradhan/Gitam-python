{
 "cells": [
  {
   "cell_type": "code",
   "execution_count": 1,
   "metadata": {},
   "outputs": [
    {
     "name": "stdout",
     "output_type": "stream",
     "text": [
      "|****\n",
      "|*\n",
      "|***\n",
      "|**\n",
      "|*****\n"
     ]
    }
   ],
   "source": [
    "# function to print the pattern \n",
    "def pattern(n): \n",
    "  \n",
    "    # traverse through the elements \n",
    "    # in n assuming it as a string \n",
    "    for i in n: \n",
    "  \n",
    "        # print | for every line \n",
    "        print(\"|\", end = \"\") \n",
    "  \n",
    "        # print i number of * s in  \n",
    "        # each line \n",
    "        print(\"*\" * int(i)) \n",
    "  \n",
    "# get the input as string         \n",
    "n = \"41325\"\n",
    "pattern(n) \n"
   ]
  },
  {
   "cell_type": "code",
   "execution_count": 3,
   "metadata": {},
   "outputs": [
    {
     "name": "stdout",
     "output_type": "stream",
     "text": [
      "Gtam Unverty\n"
     ]
    }
   ],
   "source": [
    "# function for removing the  \n",
    "# occurence of character \n",
    "def removeChar(s, c) : \n",
    "      \n",
    "    # find total no. of  \n",
    "    # occurence of charcter \n",
    "    counts = s.count(c) \n",
    "  \n",
    "    # convert into list  \n",
    "    # of characters \n",
    "    s = list(s) \n",
    "  \n",
    "    # keeep looping untill  \n",
    "    # counts become 0 \n",
    "    while counts : \n",
    "          \n",
    "        # remove character \n",
    "        # from the list \n",
    "        s.remove(c) \n",
    "  \n",
    "        # decremented by one \n",
    "        counts -= 1\n",
    "  \n",
    "    # join all remaining characters \n",
    "    # of the list with empty string  \n",
    "    s = '' . join(s) \n",
    "      \n",
    "    print(s) \n",
    "  \n",
    "# Driver code \n",
    "if __name__ == '__main__' : \n",
    "      \n",
    "    s = \"Gitam Univerity\"\n",
    "    removeChar(s,'i') "
   ]
  },
  {
   "cell_type": "code",
   "execution_count": null,
   "metadata": {},
   "outputs": [],
   "source": []
  }
 ],
 "metadata": {
  "kernelspec": {
   "display_name": "Python 3",
   "language": "python",
   "name": "python3"
  },
  "language_info": {
   "codemirror_mode": {
    "name": "ipython",
    "version": 3
   },
   "file_extension": ".py",
   "mimetype": "text/x-python",
   "name": "python",
   "nbconvert_exporter": "python",
   "pygments_lexer": "ipython3",
   "version": "3.7.3"
  }
 },
 "nbformat": 4,
 "nbformat_minor": 2
}
