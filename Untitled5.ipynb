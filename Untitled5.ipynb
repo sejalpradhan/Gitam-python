{
 "cells": [
  {
   "cell_type": "markdown",
   "metadata": {},
   "source": [
    "### Contact Application\n",
    "\n",
    "- Add contact\n",
    "- Search thr contact\n",
    "- List all contacts\n",
    "   -name1 : phone\n",
    "   -name2 : phone\n",
    "- Modify the contact\n",
    "- Remove the contact\n",
    "- Import the contact"
   ]
  },
  {
   "cell_type": "code",
   "execution_count": 3,
   "metadata": {},
   "outputs": [
    {
     "name": "stdout",
     "output_type": "stream",
     "text": [
      "Contact details are added\n",
      "Contact details are added\n",
      "Contact details already Exists\n"
     ]
    }
   ],
   "source": [
    "# Add contact\n",
    "contacts ={} #Creating a dict opject\n",
    "def addContact(name,phone):\n",
    "    if name not in contacts:\n",
    "        contacts[name] = phone\n",
    "        print(\"Contact details are added\")\n",
    "    else :\n",
    "        print(\"Contact details already Exists\")\n",
    "    return\n",
    "addContact('Anil','9876543210')\n",
    "addContact('Naveen','9966552211')\n",
    "addContact('Anil','9875324699')\n",
    "    \n",
    "    "
   ]
  },
  {
   "cell_type": "code",
   "execution_count": 5,
   "metadata": {},
   "outputs": [
    {
     "name": "stdout",
     "output_type": "stream",
     "text": [
      "Anil Updated successfully\n",
      "Ajay Not exists\n"
     ]
    }
   ],
   "source": [
    "#Update the contact details:\n",
    "\n",
    "def deleteContact(name,phone):\n",
    "    if name in contacts:\n",
    "        contacts[name] = phone\n",
    "        print(name,\"Updated successfully\")\n",
    "    else:\n",
    "        print(name,\"Not exists\")\n",
    "    return\n",
    "deleteContact('Anil',9988774455)\n",
    "deleteContact('Ajay',9988665544)"
   ]
  },
  {
   "cell_type": "code",
   "execution_count": 6,
   "metadata": {},
   "outputs": [
    {
     "name": "stdout",
     "output_type": "stream",
     "text": [
      "Anil Updated successfully\n",
      "Ajay Not exists\n"
     ]
    }
   ],
   "source": [
    "#Update the contact details:\n",
    "\n",
    "def deleteContact(name,phone):\n",
    "    if name in contacts:\n",
    "        contacts[name] = phone\n",
    "        print(name,\"Updated successfully\")\n",
    "    else:\n",
    "        print(name,\"Not exists\")\n",
    "    return\n",
    "deleteContact('Anil',9988774455)\n",
    "deleteContact('Ajay',9988665544)\n"
   ]
  },
  {
   "cell_type": "code",
   "execution_count": 8,
   "metadata": {},
   "outputs": [
    {
     "name": "stdout",
     "output_type": "stream",
     "text": [
      "3 2 1 1 0 "
     ]
    }
   ],
   "source": [
    "def reverseFibonacci(n): \n",
    "   \n",
    "    a = [0] * n  \n",
    "  \n",
    "    # assigning first and second elements \n",
    "    a[0] = 0 \n",
    "    a[1] = 1 \n",
    "  \n",
    "    for i in range(2, n):   \n",
    "  \n",
    "        # storing sum in the \n",
    "        # preceding location \n",
    "        a[i] = a[i - 2] + a[i - 1]  \n",
    "       \n",
    "  \n",
    "    for i in range(n - 1, -1 , -1):   \n",
    "  \n",
    "        # printing array in \n",
    "        # reverse order \n",
    "        print(a[i],end=\" \")  \n",
    "       \n",
    "   \n",
    "  \n",
    "# Driver function \n",
    "n = 5 \n",
    "reverseFibonacci(n)  "
   ]
  },
  {
   "cell_type": "code",
   "execution_count": 9,
   "metadata": {},
   "outputs": [
    {
     "name": "stdout",
     "output_type": "stream",
     "text": [
      "6\n"
     ]
    }
   ],
   "source": [
    "def reverseFibonacci(n): \n",
    "   \n",
    "    a = [0] * n  \n",
    "  \n",
    "    # assigning first and second elements \n",
    "    a[0] = 0 \n",
    "    a[1] = 1 \n",
    "  \n",
    "    for i in range(2, n):   \n",
    "  \n",
    "        # storing sum in the \n",
    "        # preceding location \n",
    "        a[i] = a[i - 2] + a[i - 1]  \n",
    "       \n",
    "  \n",
    "    for i in range(n - 1, -1 , -1):   \n",
    "  \n",
    "        # printing array in \n",
    "        # reverse order \n",
    "        print(a[i],end=\" \")  \n",
    "       \n",
    "   \n",
    "  \n",
    "# Driver function \n",
    "n = 5 \n",
    "reverseFibonacci(n)  "
   ]
  },
  {
   "cell_type": "code",
   "execution_count": 10,
   "metadata": {},
   "outputs": [
    {
     "name": "stdout",
     "output_type": "stream",
     "text": [
      "The 5 th term of the series is : 162\n"
     ]
    }
   ],
   "source": [
    "# Python3 Program to find nth  \n",
    "# term of geometric progression  \n",
    "import math  \n",
    "  \n",
    "def Nth_of_GP(a, r, N):  \n",
    "  \n",
    "    # Using formula to find the Nth  \n",
    "    # term TN = a1 * r(N-1)  \n",
    "    return( a * (int)(math.pow(r, N - 1)) )  \n",
    "      \n",
    "# Driver code  \n",
    "a = 2 # Starting number  \n",
    "r = 3 # Common ratio  \n",
    "N = 5 # N th term to be find  \n",
    "      \n",
    "print(\"The\", N, \"th term of the series is :\",  \n",
    "                            Nth_of_GP(a, r, N))  \n",
    "  \n"
   ]
  },
  {
   "cell_type": "code",
   "execution_count": 11,
   "metadata": {},
   "outputs": [
    {
     "name": "stdout",
     "output_type": "stream",
     "text": [
      "|****\n",
      "|*\n",
      "|***\n",
      "|**\n",
      "|*****\n"
     ]
    }
   ],
   "source": [
    "\n",
    "# function to print the pattern \n",
    "def pattern(n): \n",
    "  \n",
    "    # traverse through the elements \n",
    "    # in n assuming it as a string \n",
    "    for i in n: \n",
    "  \n",
    "        # print | for every line \n",
    "        print(\"|\", end = \"\") \n",
    "  \n",
    "        # print i number of * s in  \n",
    "        # each line \n",
    "        print(\"*\" * int(i)) \n",
    "  \n",
    "# get the input as string         \n",
    "n = \"41325\"\n",
    "pattern(n) \n"
   ]
  },
  {
   "cell_type": "code",
   "execution_count": 13,
   "metadata": {},
   "outputs": [
    {
     "name": "stdout",
     "output_type": "stream",
     "text": [
      "heo\n"
     ]
    }
   ],
   "source": [
    "  \n",
    "# function for removing the  \n",
    "# occurence of character \n",
    "def removeChar(s, c) : \n",
    "      \n",
    "    # find total no. of  \n",
    "    # occurence of charcter \n",
    "    counts = s.count(c) \n",
    "  \n",
    "    # convert into list  \n",
    "    # of characters \n",
    "    s = list(s) \n",
    "  \n",
    "    # keeep looping untill  \n",
    "    # counts become 0 \n",
    "    while counts : \n",
    "          \n",
    "        # remove character \n",
    "        # from the list \n",
    "        s.remove(c) \n",
    "  \n",
    "        # decremented by one \n",
    "        counts -= 1\n",
    "  \n",
    "    # join all remaining characters \n",
    "    # of the list with empty string  \n",
    "    s = '' . join(s) \n",
    "      \n",
    "    print(s) \n",
    "  \n",
    "# Driver code \n",
    "if __name__ == '__main__' : \n",
    "      \n",
    "    s = \"hello\"\n",
    "    removeChar(s,'l') "
   ]
  },
  {
   "cell_type": "markdown",
   "metadata": {},
   "source": [
    "### Packages and Modules\n",
    "\n",
    "#### Packages\n",
    "- A collection of Modules (Single Python file .py) and Sbpackages.\n",
    "\n",
    "#### Module\n",
    "- A single python file containng a set of files.\n",
    "\n",
    "#### Packages -->SubPackages-->Modulus-->Function-->Statements\n"
   ]
  },
  {
   "cell_type": "code",
   "execution_count": 16,
   "metadata": {},
   "outputs": [
    {
     "data": {
      "text/plain": [
       "123"
      ]
     },
     "execution_count": 16,
     "metadata": {},
     "output_type": "execute_result"
    }
   ],
   "source": [
    "# Import the externals packages to python file\n",
    "import math\n",
    "math.floor(123.45)\n"
   ]
  },
  {
   "cell_type": "code",
   "execution_count": 23,
   "metadata": {},
   "outputs": [
    {
     "name": "stdout",
     "output_type": "stream",
     "text": [
      "100 78 40 97 50 7 7 74 26 11 "
     ]
    }
   ],
   "source": [
    "#Function to generate N random numbers in given range\n",
    "import random\n",
    "def randomNNumbers(n,lb,ub):\n",
    "    for i in range (0,n):\n",
    "        print(random.randint(lb,ub),end=\" \")\n",
    "    return\n",
    "randomNNumbers(10,0,100)"
   ]
  },
  {
   "cell_type": "code",
   "execution_count": 24,
   "metadata": {},
   "outputs": [
    {
     "name": "stdout",
     "output_type": "stream",
     "text": [
      "67 377 314 331 130 389 205 323 118 74 "
     ]
    }
   ],
   "source": [
    "#generate a simple game\n",
    "#generate 20 random numbers 0 to 500\n",
    "#Input: Number\n",
    "#Output: Congrats!!\n",
    "#     try once agian.\n",
    "\n",
    "def generate"
   ]
  },
  {
   "cell_type": "code",
   "execution_count": null,
   "metadata": {},
   "outputs": [],
   "source": []
  }
 ],
 "metadata": {
  "kernelspec": {
   "display_name": "Python 3",
   "language": "python",
   "name": "python3"
  },
  "language_info": {
   "codemirror_mode": {
    "name": "ipython",
    "version": 3
   },
   "file_extension": ".py",
   "mimetype": "text/x-python",
   "name": "python",
   "nbconvert_exporter": "python",
   "pygments_lexer": "ipython3",
   "version": "3.7.3"
  }
 },
 "nbformat": 4,
 "nbformat_minor": 2
}
