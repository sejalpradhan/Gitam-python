{
 "cells": [
  {
   "cell_type": "code",
   "execution_count": 6,
   "metadata": {},
   "outputs": [
    {
     "data": {
      "text/plain": [
       "True"
      ]
     },
     "execution_count": 6,
     "metadata": {},
     "output_type": "execute_result"
    }
   ],
   "source": [
    "# given number is prime or not\n",
    "\n",
    "def isPrime(n):\n",
    "    flag = True\n",
    "    for i in range (2,n//2+1):\n",
    "        if n % i==0:\n",
    "            flag = False\n",
    "            return flag\n",
    "        return flag\n",
    "isPrime(7)\n",
    "        "
   ]
  },
  {
   "cell_type": "code",
   "execution_count": 23,
   "metadata": {},
   "outputs": [
    {
     "data": {
      "text/plain": [
       "4"
      ]
     },
     "execution_count": 23,
     "metadata": {},
     "output_type": "execute_result"
    }
   ],
   "source": [
    "# Function to find prime numbers count from 1 to n\n",
    "# 10-- 4(2,3,5,7)\n",
    "\n",
    "def primeCount(n):\n",
    "    cnt = 0\n",
    "    for a in range(2,n+1):\n",
    "        k=0\n",
    "        for i in range(2,a//2+1):\n",
    "            if a % i == 0:\n",
    "                k = k + 1\n",
    "        if (k<=0):\n",
    "             cnt = cnt + 1\n",
    "    return cnt\n",
    "primeCount(10)"
   ]
  },
  {
   "cell_type": "code",
   "execution_count": 20,
   "metadata": {},
   "outputs": [
    {
     "name": "stdout",
     "output_type": "stream",
     "text": [
      "Yes\n",
      "No\n"
     ]
    }
   ],
   "source": [
    "# Individual digit factorial sum is same as original number.\n",
    "# Example :-\n",
    "# 145 -- Yes (5! +4! +1! = 145)\n",
    "# 123 -- No (3! +2! +1! = 9)\n",
    "def factorial(n):\n",
    "    fact=1\n",
    "    for i in range(2,n+1):\n",
    "        fact *= i\n",
    "    return fact\n",
    "def digitFactSum(n):\n",
    "    sum = 0\n",
    "    buffer = n\n",
    "    while n != 0 :\n",
    "        r = n % 10\n",
    "        sum += factorial(r)\n",
    "        n = n // 10\n",
    "    if sum == buffer:\n",
    "        return \"Yes\"\n",
    "    else:\n",
    "        return \"No\"\n",
    "    return\n",
    "print(digitFactSum(145))\n",
    "print(digitFactSum(123))\n",
    "\n",
    "    "
   ]
  },
  {
   "cell_type": "code",
   "execution_count": 33,
   "metadata": {},
   "outputs": [
    {
     "name": "stdout",
     "output_type": "stream",
     "text": [
      "6 \n",
      "6 28 496 8128 \n"
     ]
    }
   ],
   "source": [
    "# Function to generate the perfect numbers in a given range\n",
    "# Perfect number : sum of all its factors same \n",
    "# Example : 6 -- 1 2 3 (1 + 2 +3)\n",
    "# Input : 1 10\n",
    "# Output : 6\n",
    "\n",
    "def factorList (n):\n",
    "    sum = 0\n",
    "    for i in range (1,n//2+1):\n",
    "        if n % i == 0:\n",
    "            sum=sum+i\n",
    "    return sum\n",
    "def isPerfect(n):\n",
    "    if factorList(n) == n:\n",
    "        return True\n",
    "    return False\n",
    "def generatePerfect (lb,ub):\n",
    "    for x in range (lb,ub+1):\n",
    "        if isPerfect(x):\n",
    "            print(x,end = \" \")\n",
    "    print()\n",
    "    return\n",
    "\n",
    "generatePerfect(1,10)\n",
    "generatePerfect(1,10000)"
   ]
  },
  {
   "cell_type": "code",
   "execution_count": 34,
   "metadata": {},
   "outputs": [
    {
     "data": {
      "text/plain": [
       "9"
      ]
     },
     "execution_count": 34,
     "metadata": {},
     "output_type": "execute_result"
    }
   ],
   "source": [
    "# Function to return the count of Palindrome n\n",
    "# Input : 1 10\n",
    "# Output : 9 (1,2,3,4,5,6,7,8,9)\n",
    "\n",
    "# Input : 11 100\n",
    "#Output : 9 (11,22,33,.......99)\n",
    "\n",
    "def isPalindrome(n):\n",
    "    rev = 0\n",
    "    buffer = n\n",
    "    while n != 0:\n",
    "        r = n % 10\n",
    "        rev = rev * 10 + r\n",
    "        n = n // 10\n",
    "    if rev == buffer:\n",
    "        return True\n",
    "    else:\n",
    "        return False\n",
    "\n",
    "def countPalindrome(lb,ub):\n",
    "    cnt = 0\n",
    "    while lb != ub:\n",
    "        # Implement\n",
    "        if isPalindrome(lb) == True:\n",
    "            cnt = cnt + 1\n",
    "        lb = lb + 1\n",
    "    return cnt\n",
    "countPalindrome(1,10)\n",
    "\n"
   ]
  },
  {
   "cell_type": "code",
   "execution_count": 43,
   "metadata": {},
   "outputs": [
    {
     "data": {
      "text/plain": [
       "16"
      ]
     },
     "execution_count": 43,
     "metadata": {},
     "output_type": "execute_result"
    }
   ],
   "source": [
    "#Function to return the sum of digits in a given string\n",
    "#Input :application\n",
    "#Output :20 (1+8+8+9)\n",
    "\n",
    "def sumOfEvenDigits(str):\n",
    "    sum=0\n",
    "    for x in range (len(str)):\n",
    "        if ord(str[x])>= 48 and ord(str[x]) <=57:\n",
    "            if(ord(str[x])-48)%2==0:\n",
    "                sum = sum + (ord(str[x])-48)\n",
    "    return sum\n",
    "sumOfEvenDigits('Appli1cat8ion89')"
   ]
  },
  {
   "cell_type": "code",
   "execution_count": 44,
   "metadata": {},
   "outputs": [
    {
     "name": "stdout",
     "output_type": "stream",
     "text": [
      "1 8 8 9 "
     ]
    }
   ],
   "source": [
    "def extractDigits(str):\n",
    "    for x in range (len(str)):\n",
    "        if ord(str[x]) >= 48 and ord(str[x]) <= 57:\n",
    "            print(str[x],end = \" \")\n",
    "    return\n",
    "extractDigits(\"Appli1cat8ion89\")\n",
    "\n",
    "    "
   ]
  },
  {
   "cell_type": "code",
   "execution_count": 45,
   "metadata": {},
   "outputs": [
    {
     "name": "stdout",
     "output_type": "stream",
     "text": [
      "Programming\n",
      "Programming\n"
     ]
    }
   ],
   "source": [
    "# Function to print \"Python\" if the count of\n",
    "# Upper and Lower case is same\n",
    "# Print \"Programming\" if not same\n",
    "# Example : Python -- 3 P T O (Upper case) -- SameCount\n",
    "#                     3 y h n (Lower case)\n",
    "# PytHon -- P H  (2)\n",
    "#        -- y t o n (4) - Programming\n",
    "def findCount(str):\n",
    "    cntUpper = 0\n",
    "    cntLower = 0\n",
    "    for x in range(len(str)):\n",
    "        if ord(str[x]) >= 65 and ord(str[x]) <= 90:\n",
    "            cntUpper = cntUpper + 1\n",
    "        elif ord(str[x]) >= 97 and ord(str[x]) <= 122:\n",
    "            cntLower = cntLower + 1\n",
    "        if cntUpper == cntLower:\n",
    "            return \"SameCount\"\n",
    "        else:\n",
    "            return \"Programming\"\n",
    "    return\n",
    "print(findCount('PyThOn')) #SameCount\n",
    "print(findCount('PYTHon')) #Programming\n",
    "\n"
   ]
  },
  {
   "cell_type": "code",
   "execution_count": null,
   "metadata": {},
   "outputs": [],
   "source": [
    "# Function to print the Specific word in Upper case.\n",
    "# Example\n",
    "#Input : Python Made easy\n",
    "#Output : MADE\n",
    "#Input : Learn Pyhton Programming\n",
    "#Output : PYTHON  \n",
    "\n",
    "\n"
   ]
  }
 ],
 "metadata": {
  "kernelspec": {
   "display_name": "Python 3",
   "language": "python",
   "name": "python3"
  },
  "language_info": {
   "codemirror_mode": {
    "name": "ipython",
    "version": 3
   },
   "file_extension": ".py",
   "mimetype": "text/x-python",
   "name": "python",
   "nbconvert_exporter": "python",
   "pygments_lexer": "ipython3",
   "version": "3.7.3"
  }
 },
 "nbformat": 4,
 "nbformat_minor": 2
}
