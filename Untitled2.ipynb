{
 "cells": [
  {
   "cell_type": "code",
   "execution_count": 5,
   "metadata": {},
   "outputs": [
    {
     "name": "stdout",
     "output_type": "stream",
     "text": [
      "Enter number 1 12\n",
      "Enter number 2 56\n",
      "Enter number 3 99\n",
      "99 is the largest number \n"
     ]
    }
   ],
   "source": [
    "# Find the largest number from the given 3 numbers.\n",
    "a1=int(input(\"Enter number 1 \"))\n",
    "a2=int(input(\"Enter number 2 \"))\n",
    "a3=int(input(\"Enter number 3 \"))\n",
    "\n",
    "if a1>a2 and a1>a3:\n",
    "    print(a1,\" is the largest number \")\n",
    "elif a2>a1 and a2>a3:\n",
    "    print(a2,\"is the largest number \")\n",
    "else:\n",
    "    print(a3,\"is the largest number \")\n",
    "        "
   ]
  },
  {
   "cell_type": "code",
   "execution_count": 9,
   "metadata": {},
   "outputs": [
    {
     "name": "stdout",
     "output_type": "stream",
     "text": [
      " Enter Year 2000\n",
      " Leap year \n"
     ]
    }
   ],
   "source": [
    "# check a given year is leap year or not.\n",
    "\n",
    "year= int(input(\" Enter Year \"))\n",
    "if year%400==0 or (year % 100!=0 and year % 4==0):\n",
    "  print(\" Leap year \")\n",
    "else:\n",
    "    print(\"not a leap year\")"
   ]
  },
  {
   "cell_type": "markdown",
   "metadata": {},
   "source": [
    "# Iteration\n",
    "\n",
    "- while\n",
    "- for\n",
    "\n",
    "Syntax:\n",
    "    while Boolean_Condition:\n",
    "    \n",
    "    statements\n",
    "    \n",
    "    Increment/Decrement"
   ]
  },
  {
   "cell_type": "code",
   "execution_count": 10,
   "metadata": {},
   "outputs": [
    {
     "name": "stdout",
     "output_type": "stream",
     "text": [
      "GITAM\n",
      "GITAM\n",
      "GITAM\n",
      "GITAM\n",
      "GITAM\n"
     ]
    }
   ],
   "source": [
    "# print GITAM for 5 times.\n",
    "\n",
    "print(\"GITAM\")\n",
    "print(\"GITAM\")\n",
    "print(\"GITAM\")\n",
    "print(\"GITAM\")\n",
    "print(\"GITAM\")"
   ]
  },
  {
   "cell_type": "code",
   "execution_count": 11,
   "metadata": {},
   "outputs": [
    {
     "name": "stdout",
     "output_type": "stream",
     "text": [
      "Gitam\n",
      "Gitam\n",
      "Gitam\n",
      "Gitam\n",
      "Gitam\n"
     ]
    }
   ],
   "source": [
    "x=0\n",
    "while x<5:\n",
    "    print(\"Gitam\") \n",
    "    x=x+1"
   ]
  },
  {
   "cell_type": "code",
   "execution_count": 18,
   "metadata": {},
   "outputs": [
    {
     "name": "stdout",
     "output_type": "stream",
     "text": [
      "Enter a number 10\n",
      "1 2 3 4 5 6 7 8 9 10 "
     ]
    }
   ],
   "source": [
    "# Print n natural numbers using while loop.\n",
    "#input=10\n",
    "#output= 1 2 3 ......10\n",
    " \n",
    "n=int(input(\"Enter a number\"))\n",
    "i=1\n",
    "while i<=n:\n",
    "    print (i,end=\" \")\n",
    "    i=i+1"
   ]
  },
  {
   "cell_type": "code",
   "execution_count": 26,
   "metadata": {},
   "outputs": [
    {
     "name": "stdout",
     "output_type": "stream",
     "text": [
      "Enter a number10\n",
      "30\n"
     ]
    }
   ],
   "source": [
    "#Read a number n.\n",
    "#Add only even numbers between 1 to n.\n",
    "#input=10.\n",
    "#output=30(2+4+6+8+10).\n",
    "\n",
    "n=int(input(\"Enter a number\"))\n",
    "i=1\n",
    "sum=0\n",
    "while i<=n:\n",
    "    if i%2==0:\n",
    "        sum = sum +i\n",
    "    i=i+1\n",
    "print (sum)"
   ]
  },
  {
   "cell_type": "code",
   "execution_count": 30,
   "metadata": {},
   "outputs": [
    {
     "name": "stdout",
     "output_type": "stream",
     "text": [
      "Enter a number123\n",
      "3  2  1  "
     ]
    }
   ],
   "source": [
    "#Number as a number--123.\n",
    "#Print the digits of the number:3 2 1.\n",
    "\n",
    "n=int(input(\"Enter a number\"))\n",
    "while n!=0:\n",
    "    r=n%10\n",
    "    print(r,end=\"  \")\n",
    "    n=n // 10\n",
    "    "
   ]
  },
  {
   "cell_type": "markdown",
   "metadata": {},
   "source": [
    "### Functional programming\n",
    "\n",
    "- simple\n",
    "- Easy read \n",
    "- Lengthy program divides into sub programs"
   ]
  },
  {
   "cell_type": "code",
   "execution_count": null,
   "metadata": {},
   "outputs": [],
   "source": [
    "def nameoftheFunction(<Parameters>):\n",
    "    Statement\n",
    "    return"
   ]
  },
  {
   "cell_type": "code",
   "execution_count": null,
   "metadata": {},
   "outputs": [],
   "source": [
    "# Read a number -- 1234.\n",
    "# Output -- 6(2+4).\n",
    "def addEvenDigits(n):\n",
    "    while \n",
    "    return\n",
    "addEvenDigits(1234)"
   ]
  }
 ],
 "metadata": {
  "kernelspec": {
   "display_name": "Python 3",
   "language": "python",
   "name": "python3"
  },
  "language_info": {
   "codemirror_mode": {
    "name": "ipython",
    "version": 3
   },
   "file_extension": ".py",
   "mimetype": "text/x-python",
   "name": "python",
   "nbconvert_exporter": "python",
   "pygments_lexer": "ipython3",
   "version": "3.7.3"
  }
 },
 "nbformat": 4,
 "nbformat_minor": 2
}
